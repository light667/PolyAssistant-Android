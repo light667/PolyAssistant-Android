{
 "cells": [
  {
   "cell_type": "markdown",
   "id": "9b1947e2-274f-405e-991a-caf1ca43f96f",
   "metadata": {},
   "source": [
    "# Exercice 1\n",
    "## Utilisation de `numpy` et `matplotlib` pour tracer les fonctions.\n",
    "\n",
    "1. $f1(x)=  e^x $,\n",
    "2. $f2(x)= x^{2}$,\n",
    "3. $f3(x)= 2 \\times \\sin(x) + 4$\n",
    "\n",
    "sur l'intervalle $[-2; 2]$"
   ]
  },
  {
   "cell_type": "markdown",
   "id": "cf6f9954-85ca-4c7d-82c0-e8908ada2e11",
   "metadata": {},
   "source": [
    "##  Importation de modules"
   ]
  },
  {
   "cell_type": "code",
   "execution_count": null,
   "id": "1babb5b4-436c-45ed-ad65-7e1686897a1c",
   "metadata": {},
   "outputs": [],
   "source": [
    "import numpy as np  # importation de numpy comme np\n",
    "import matplotlib as mpl\n",
    "import matplotlib.pyplot as plt\n",
    "\n",
    "from matplotlib import rc"
   ]
  },
  {
   "cell_type": "markdown",
   "id": "ce213722-3a48-4e2d-80aa-42164d3a7034",
   "metadata": {},
   "source": [
    " ## Créer un tableau x qui nous servira d’absices\n",
    "\n",
    " Valeur minimale -2, Valeur maximale -2\n",
    " le nombre de point  25"
   ]
  },
  {
   "cell_type": "code",
   "execution_count": null,
   "id": "355f9aa4-2e8e-42cf-b388-01ba001fa2e9",
   "metadata": {},
   "outputs": [],
   "source": [
    "x = "
   ]
  },
  {
   "cell_type": "markdown",
   "id": "8e6193d3-110c-45ad-886e-426793c9aedf",
   "metadata": {},
   "source": [
    "## Créattion des fonctions: \n",
    "$f1(x)=  e^x $,   $f2(x)= x^{2}$,  $f3(x)= 2 \\times \\sin(x) + 4$\n",
    "\n",
    "en utilisant les fonction `exp()` et `sin()` du module `numpy`\n",
    " "
   ]
  },
  {
   "cell_type": "code",
   "execution_count": null,
   "id": "031ed052-282b-4bee-a6c9-80411e57db32",
   "metadata": {},
   "outputs": [],
   "source": [
    "def f1(x):\n",
    "    ...\n",
    "\n",
    "def f2(x):\n",
    "    ...\n",
    "\n",
    "def f3(x):\n",
    "    ..."
   ]
  },
  {
   "cell_type": "markdown",
   "id": "cd33806f-7ad6-4ce0-bee6-0d1d5470d5e4",
   "metadata": {},
   "source": [
    "## Créer 3 tableaux représentant les ordonnées relatives à X pour 3 fonctions.\n"
   ]
  },
  {
   "cell_type": "code",
   "execution_count": null,
   "id": "bc2ac919-784d-487d-a10a-5ff0eb9a90fe",
   "metadata": {},
   "outputs": [],
   "source": [
    "\n",
    "Y1 = _____\n",
    "Y2 = _____\n",
    "Y3 = _____\n"
   ]
  },
  {
   "cell_type": "markdown",
   "id": "bade8662-beae-4935-962e-b1d803ef7075",
   "metadata": {},
   "source": [
    "## Tracer des courbes "
   ]
  },
  {
   "cell_type": "code",
   "execution_count": null,
   "id": "b380b079-0f09-4876-a663-047857c328c0",
   "metadata": {},
   "outputs": [],
   "source": [
    "\n",
    "plt.figure(1)\n",
    "\n",
    "plt.plot(___, ___, 'b-', label = r'$ e^x $')\n",
    "plt.plot(___, ___, 'r+', label = r'$x^{2}$')\n",
    "plt.plot(___, ___, 'ks--', linewidth = 2, label = r'$2 \\times sin(x) + 4$')\n",
    "\n",
    "#Nommer les axes X et Y de votre figure\n",
    "\n",
    "...\n",
    "# La legende\n",
    "...\n",
    "\n",
    "plt.grid('True')# grille \n",
    "plt.show()"
   ]
  },
  {
   "cell_type": "markdown",
   "id": "d47a119c-67b4-48d0-8eb2-1110277e76bd",
   "metadata": {},
   "source": [
    "# Exercice 2\n",
    "## Utilisation de `sympy` ` pour tracer les fonctions."
   ]
  },
  {
   "cell_type": "code",
   "execution_count": 4,
   "id": "01f18d01-5896-4846-bbf8-c17ed2d1a853",
   "metadata": {},
   "outputs": [],
   "source": [
    "import sympy as sp # importation de sympy comme sp\n",
    "\n",
    "# définition du symbole x\n",
    "x = ...\n",
    "\n"
   ]
  },
  {
   "cell_type": "markdown",
   "id": "755bb620-a82c-4aa8-adb3-acf99d6875e6",
   "metadata": {},
   "source": [
    "## Définition des symboles des fonctions f1, f2 et f3\n",
    "$f1(x)=  e^x $,   $f2(x)= x^{2}$,  $f3(x)= 2 \\times \\sin(x) + 4$\n",
    "\n",
    "\n",
    "en utilisant les fonction `exp()` et `sin()` du module `sympy`"
   ]
  },
  {
   "cell_type": "code",
   "execution_count": null,
   "id": "21d9ee97-a827-4624-b119-2ed981b9848d",
   "metadata": {},
   "outputs": [],
   "source": [
    "f1 = _____\n",
    "f2 = _____\n",
    "f3 = _____\n"
   ]
  },
  {
   "cell_type": "markdown",
   "id": "e48f0cca-bb75-4146-b077-32d5e1b3bf97",
   "metadata": {},
   "source": [
    "## Traçage des courbes de f1, f2  et f3 pour x=[-2,2] dans  une même figure "
   ]
  },
  {
   "cell_type": "code",
   "execution_count": null,
   "id": "369e281a-9e84-4272-b047-b631a6c58ac1",
   "metadata": {},
   "outputs": [],
   "source": [
    "sp.plot(______)"
   ]
  }
 ],
 "metadata": {
  "kernelspec": {
   "display_name": "Python 3 (ipykernel)",
   "language": "python",
   "name": "python3"
  },
  "language_info": {
   "codemirror_mode": {
    "name": "ipython",
    "version": 3
   },
   "file_extension": ".py",
   "mimetype": "text/x-python",
   "name": "python",
   "nbconvert_exporter": "python",
   "pygments_lexer": "ipython3",
   "version": "3.8.10"
  }
 },
 "nbformat": 4,
 "nbformat_minor": 5
}
